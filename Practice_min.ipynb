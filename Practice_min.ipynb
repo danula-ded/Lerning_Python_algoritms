{
 "cells": [
  {
   "cell_type": "markdown",
   "metadata": {},
   "source": [
    "# Список задач по дисциплине \"Алгоритмы, программирование и структуры данных\" для групп К0709-22"
   ]
  },
  {
   "cell_type": "markdown",
   "metadata": {},
   "source": [
    "1. Даны два числа `a` и `b` в десятичной системе счисления и основание некоторой системы счисления `c`. Найдите сумму этих чисел в системе счисления `c`. Результат представить в виде списка."
   ]
  },
  {
   "cell_type": "code",
   "execution_count": null,
   "metadata": {},
   "outputs": [],
   "source": [
    "def sum(a, b, c):\n",
    "    res = [] \n",
    "    carry = 0 \n",
    "    while a or b or carry:\n",
    "        d1 = a % c\n",
    "        d2 = b % c \n",
    "        a //= c\n",
    "        b //= c\n",
    "\n",
    "        s = d1+d2+carry\n",
    "        carry = s // c\n",
    "        s %= c\n",
    "        res.append(s)\n",
    "    return res[::-1] "
   ]
  },
  {
   "cell_type": "markdown",
   "metadata": {},
   "source": [
    "2. Даны два числа `a` и `b`, представленные в виде строк. Найдите произведение этих чисел и верните его в виде строки."
   ]
  },
  {
   "cell_type": "code",
   "execution_count": null,
   "metadata": {},
   "outputs": [],
   "source": [
    "def sum(a, b):\n",
    "    c = 10 \n",
    "    res = [] \n",
    "    if len(a) > len(b):\n",
    "        a, b = b, a \n",
    "    n = len(b)\n",
    "    a = [0]*(n-len(a)) + a\n",
    "\n",
    "    res = [0]*n\n",
    "    carry = 0 \n",
    "    for i in range(n-1, -1, -1):\n",
    "        res[i] = a[i]+b[i]+carry\n",
    "        carry = res[i] // c\n",
    "        res[i] %= c\n",
    "    if carry:\n",
    "        res = [carry]+res\n",
    "    return res\n",
    "\n",
    "def p(a, k):\n",
    "    c = 10\n",
    "    res = [0]*len(a)\n",
    "    carry = 0 \n",
    "    for i in range(len(a)-1, -1, -1):\n",
    "        res[i] = a[i]*k+carry\n",
    "        carry = res[i] // c \n",
    "        res[i] %= c\n",
    "    if carry: \n",
    "        res = [carry]+res \n",
    "    return res\n",
    "\n",
    "def product(a, b):\n",
    "    a = list(map(int, a))\n",
    "    b = list(map(int, b))\n",
    "    if len(a) > len(b):\n",
    "        a, b = b, a\n",
    "    n = len(b)\n",
    "    a = [0]*(n-len(a)) + a\n",
    "\n",
    "    res = [] \n",
    "    power = 0\n",
    "    for i in range(n-1, -1, -1):\n",
    "        res = sum(res, p(a, b[i]) + [0]*power)\n",
    "        power += 1\n",
    "    for first_dig in range(len(res)):\n",
    "        if res[first_dig] != 0:\n",
    "            break\n",
    "    return res[first_dig:]\n",
    "\n",
    "a = input() \n",
    "b = input() \n",
    "print(''.join(map(str, p(list(map(int, a)), int(b)))))\n",
    "print(''.join(map(str, product(a, b))))"
   ]
  },
  {
   "cell_type": "markdown",
   "metadata": {},
   "source": [
    "3. Реализуйте алгоритм быстрого возведения числа `a` в степень `b`. "
   ]
  },
  {
   "cell_type": "code",
   "execution_count": null,
   "metadata": {},
   "outputs": [],
   "source": [
    "def fast_power(a, n):\n",
    "    if n == 0: return 1\n",
    "    res = a\n",
    "    i = 1\n",
    "    while i < n:\n",
    "        if i*2 < n:\n",
    "            res *= res\n",
    "            i *= 2\n",
    "        else: \n",
    "            res *= a \n",
    "            i += 1\n",
    "    return res"
   ]
  },
  {
   "cell_type": "markdown",
   "metadata": {},
   "source": [
    "4. Даны два числа `a` и `b`. Найдите их наибольший общий делитель."
   ]
  },
  {
   "cell_type": "code",
   "execution_count": null,
   "metadata": {},
   "outputs": [],
   "source": [
    "def gcd(a, b): \n",
    "    if a == 0:\n",
    "        return b\n",
    "    return gcd(b%a, a)"
   ]
  },
  {
   "cell_type": "markdown",
   "metadata": {},
   "source": [
    "5. Даны два числа `a` и `b`. Найдите пару чисел `x` и `y`, являющуюся решением уравнения вида: $ax+by=НОД(a,b)$"
   ]
  },
  {
   "cell_type": "code",
   "execution_count": null,
   "metadata": {},
   "outputs": [],
   "source": [
    "def extended_gcd(a, b):\n",
    "    if a == 0:\n",
    "        return b, 0, 1\n",
    "    else:\n",
    "        gcd, x, y = extended_gcd(b % a, a)\n",
    "        return gcd, y - (b // a) * x, x\n",
    "\n",
    "gcd, x, y = extended_gcd(30, 50)\n",
    "print('The GCD is', gcd)\n",
    "print(f'x = {x}, y = {y}')"
   ]
  },
  {
   "cell_type": "markdown",
   "metadata": {},
   "source": [
    "6. Проверить, является ли число `a` простым."
   ]
  },
  {
   "cell_type": "code",
   "execution_count": null,
   "metadata": {},
   "outputs": [],
   "source": [
    "def is_prime(a):\n",
    "    for d in range(2, int(a**0.5)+1):\n",
    "        if a % d == 0:\n",
    "            return False \n",
    "    return True"
   ]
  },
  {
   "cell_type": "markdown",
   "metadata": {},
   "source": [
    "7. Найти $k$-тое по счету простое число. Число $2$ считать простым числом с номером $1$."
   ]
  },
  {
   "cell_type": "code",
   "execution_count": null,
   "metadata": {},
   "outputs": [],
   "source": [
    "def nth_prime(n):\n",
    "    primes = []\n",
    "    d = 2\n",
    "    while len(primes) < n:\n",
    "        is_prime = True\n",
    "        square_d = d**0.5\n",
    "        for p in primes:\n",
    "            if p > square_d:\n",
    "                break\n",
    "            if d % p == 0: \n",
    "                is_prime = False\n",
    "                break \n",
    "        if is_prime:\n",
    "            primes.append(d)\n",
    "        d += 1 \n",
    "    return primes[-1]"
   ]
  },
  {
   "cell_type": "markdown",
   "metadata": {},
   "source": [
    "8. Найти количество простых чисел в диапазоне от $[0,n]$. "
   ]
  },
  {
   "cell_type": "code",
   "execution_count": null,
   "metadata": {},
   "outputs": [],
   "source": [
    "def erat(n):\n",
    "    e = [1]*(n+1)\n",
    "    e[0] = e[1] = 0\n",
    "    for d in range(2, len(e)):\n",
    "        if not e[d]:\n",
    "            continue\n",
    "        for d2 in range(d*2, len(e), d):\n",
    "            e[d2] = 0\n",
    "    return e\n",
    "\n",
    "def count_primes(upto):\n",
    "    return sum(erat(upto))"
   ]
  },
  {
   "cell_type": "markdown",
   "metadata": {},
   "source": [
    "9. Дан список целых чисел `arr`. Реализовать сортировку простыми обменами, в качестве результата вернуть количество перестановок выполненных в процессе сортировки."
   ]
  },
  {
   "cell_type": "code",
   "execution_count": null,
   "metadata": {},
   "outputs": [],
   "source": [
    "def swap_sort(arr):\n",
    "    n = len(arr)\n",
    "    swaps = 0\n",
    "    for i in range(n):\n",
    "        for j in range(i+1, n):\n",
    "            if arr[i] > arr[j]:\n",
    "                arr[i], arr[j] = arr[j], arr[i]\n",
    "                swaps += 1\n",
    "    return swaps"
   ]
  },
  {
   "cell_type": "markdown",
   "metadata": {},
   "source": [
    "10. Дан список целых чисел `arr`. Реализовать сортировку вставками (без использования бинарного поиска), в качестве результата вернуть количество перестановок выполненных в процессе сортировки."
   ]
  },
  {
   "cell_type": "code",
   "execution_count": null,
   "metadata": {},
   "outputs": [],
   "source": [
    "def insertion_sort(arr):\n",
    "    n = len(arr)\n",
    "    swaps = 0\n",
    "    for i in range(n):\n",
    "        k = i\n",
    "        while k > 0 and a[k-1] > a[k]:\n",
    "            a[k], a[k-1] = a[k-1], a[k]\n",
    "            swaps += 1\n",
    "            k -= 1\n",
    "    return swaps"
   ]
  },
  {
   "cell_type": "markdown",
   "metadata": {},
   "source": [
    "11. Дан сортированный список целых чисел `arr` и число `x`. Найти индекс, на котором будет расположено число `x` в списке, после его добавления в список в порядке сортировки."
   ]
  },
  {
   "cell_type": "code",
   "execution_count": null,
   "metadata": {},
   "outputs": [],
   "source": [
    "def sorted_place(arr, new):\n",
    "    i = len(arr)//2\n",
    "    while True:\n",
    "        if i < len(arr) and arr[i] < new:\n",
    "            if i == len(arr)-1:\n",
    "                return len(arr)\n",
    "            i += i // 2 + (i==1)\n",
    "        elif i and arr[i-1] > new:\n",
    "            if i == 1: \n",
    "                return 0\n",
    "            i -= i // 2 \n",
    "        else: \n",
    "            return i"
   ]
  },
  {
   "cell_type": "markdown",
   "metadata": {},
   "source": [
    "12. Даны два сортированных списка `arr1` и `arr2`. Выполнить их слияние так, чтобы полученный список так же был сортирован."
   ]
  },
  {
   "cell_type": "code",
   "execution_count": null,
   "metadata": {},
   "outputs": [],
   "source": [
    "def merge(a, b):\n",
    "    merged = [] \n",
    "    a = a[::-1]\n",
    "    b = b[::-1] \n",
    "    while b:\n",
    "        while a and a[-1] < b[-1]:\n",
    "            merged.append(a.pop())\n",
    "        merged.append(b.pop())\n",
    "    merged.extend(a[::-1])\n",
    "    return merged"
   ]
  },
  {
   "cell_type": "markdown",
   "metadata": {},
   "source": [
    "14. Реализовать алгоритм сортировки слиянием с использованием галопирования."
   ]
  },
  {
   "cell_type": "code",
   "execution_count": null,
   "metadata": {},
   "outputs": [],
   "source": [
    "def galloping(AB, n, C): \n",
    "    C[:] = AB[:n]\n",
    "    r, j, m = 0, n, len(AB) - n\n",
    "    for i in range(n):\n",
    "        while l < m and AB[j+l] < C[i]:\n",
    "            k += 1\n",
    "            l = 2**k - 1\n",
    "            if l >= m: l=m-1\n",
    "            while l >= 0 and AB[j+l] > C[i]: \n",
    "                l -= 1\n",
    "        l += 1\n",
    "        AB[r:r+l], AB[r+l] = AB[j:j+l], C[i] \n",
    "        r, j, m = r + l + 1, j + l, m - l"
   ]
  },
  {
   "cell_type": "markdown",
   "metadata": {},
   "source": [
    "13. Реализовать алгоритм быстрой сортировки."
   ]
  },
  {
   "cell_type": "code",
   "execution_count": null,
   "metadata": {},
   "outputs": [],
   "source": [
    "def partition(array, low, high):\n",
    "    pivot = array[high]\n",
    "    i = low - 1\n",
    "\n",
    "    for j in range(low, high):\n",
    "        if array[j] <= pivot:\n",
    "            i = i + 1\n",
    "            (array[i], array[j]) = (array[j], array[i])\n",
    "\n",
    "    (array[i + 1], array[high]) = (array[high], array[i + 1])\n",
    "\n",
    "    return i + 1\n",
    "\n",
    "def quicksort(array, low, high):\n",
    "    if low < high:\n",
    "        pi = partition(array, low, high)\n",
    "\n",
    "        quicksort(array, low, pi - 1)\n",
    "        quicksort(array, pi + 1, high)\n",
    "\n",
    "def sort(arr):\n",
    "    quicksort(arr, 0, len(arr)-1)\n",
    "    return arr"
   ]
  },
  {
   "cell_type": "markdown",
   "metadata": {},
   "source": [
    "14. На вершине лесенки, содержащей N ступенек, находится мячик, который начинает прыгать по ним вниз, к основанию. Мячик может прыгнуть на следующую ступеньку, на ступеньку через одну или через 2. (То есть, если мячик лежит на 8-ой ступеньке, то он может переместиться на 5-ую, 6-ую или 7-ую.) Определить число всевозможных \"маршрутов\" мячика с вершины на землю."
   ]
  },
  {
   "cell_type": "code",
   "execution_count": null,
   "metadata": {},
   "outputs": [],
   "source": [
    "def routes_to_start(N):\n",
    "    N += 1\n",
    "    dp = [0]*N\n",
    "    dp[-1] = 1 \n",
    "\n",
    "    for step in range(N-2, -1, -1):\n",
    "        dp[step] = dp[step+1]\n",
    "        if step+2 < N:\n",
    "            dp[step] += dp[step+2]\n",
    "        if step+3 < N:\n",
    "            dp[step] += dp[step+3]\n",
    "    return dp[0]"
   ]
  },
  {
   "cell_type": "markdown",
   "metadata": {},
   "source": [
    "15. Вычислите n-й член последовательности, заданной формулами:\n",
    "\n",
    "$$\n",
    "a_{2n} = a_n ­+ a_{n-1}, \\newline\n",
    "a_{2n+1} = a_n – a_{n-1}, \\newline\n",
    "a_0 = a_1 = 1.\n",
    "$$"
   ]
  },
  {
   "cell_type": "code",
   "execution_count": null,
   "metadata": {},
   "outputs": [],
   "source": [
    "def a(n):\n",
    "    n += 1 \n",
    "    dp = [0]*n \n",
    "    dp[0] = dp[1] = 1 \n",
    "    for i in range(n): \n",
    "        k = i // 2\n",
    "        if i % 2: \n",
    "            dp[i] = dp[k] - dp[k-1]\n",
    "        else: \n",
    "            dp[i] = dp[k] + dp[k-1]\n",
    "\n",
    "    return dp[n-1]"
   ]
  },
  {
   "cell_type": "markdown",
   "metadata": {},
   "source": [
    "16. Даны две последовательности, требуется найти длину их наибольшей общей подпоследовательности."
   ]
  },
  {
   "cell_type": "code",
   "execution_count": null,
   "metadata": {},
   "outputs": [],
   "source": [
    "def lcs_len(a, b):\n",
    "    n = len(a) \n",
    "    m = len(b)\n",
    "    dp = [[0 for _ in range(m+1)] for _ in range(n+1)]\n",
    "    for i in range(1, n+1):\n",
    "        for j in range(1, m+1):\n",
    "            if a[i-1] == b[j-1]:\n",
    "                dp[i][j] = dp[i-1][j-1] + 1\n",
    "            else:\n",
    "                dp[i][j] = max(dp[i-1][j], dp[i][j-1])\n",
    "    return dp[n][m]\n",
    "\n",
    "a = [1, 2, 3, 4, 5, 6] \n",
    "b = [4, 5, 6, 1, 2, 3]\n",
    "print(lcs_len(a, b))"
   ]
  },
  {
   "cell_type": "markdown",
   "metadata": {},
   "source": [
    "17. Дано `N` золотых слитков массой $m_1, …, m_N$. Ими наполняют рюкзак, который выдерживает вес не более `M`. Можно ли набрать вес в точности `M`?"
   ]
  },
  {
   "cell_type": "code",
   "execution_count": null,
   "metadata": {},
   "outputs": [],
   "source": [
    "def can_get_weight(arr, m):\n",
    "    can_get = [True] + [0]*m\n",
    "    for new in arr:\n",
    "        can_get = [can_get[weight] or weight - new >= 0 and can_get[weight-new] for weight in range(m+1)]\n",
    "    return can_get[m]\n",
    "\n",
    "n, m = map(int, input().split()) # 4 7\n",
    "arr = list(map(int, input().split())) # 1 3 4 5\n",
    "print('YES' if can_get_weight(arr, m) else 'NO')"
   ]
  },
  {
   "cell_type": "markdown",
   "metadata": {},
   "source": [
    "18. Определите расстояние Левенштейна для двух данных строк `s1` и `s2`."
   ]
  },
  {
   "cell_type": "code",
   "execution_count": null,
   "metadata": {},
   "outputs": [],
   "source": [
    "def levenstein(str_1, str_2):\n",
    "    n, m = len(str_1), len(str_2)\n",
    "    if n > m:\n",
    "        str_1, str_2 = str_2, str_1\n",
    "        n, m = m, n\n",
    "\n",
    "    current_row = range(n + 1)\n",
    "    for i in range(1, m + 1):\n",
    "        previous_row, current_row = current_row, [i] + [0] * n\n",
    "        for j in range(1, n + 1):\n",
    "            add, delete, change = previous_row[j] + 1, current_row[j - 1] + 1, previous_row[j - 1]\n",
    "            if str_1[j - 1] != str_2[i - 1]:\n",
    "                change += 1\n",
    "            current_row[j] = min(add, delete, change)\n",
    "    return current_row[n]\n",
    "\n",
    "print(levenstein('алгоритмы', 'алкоритмы'))"
   ]
  },
  {
   "cell_type": "markdown",
   "metadata": {},
   "source": [
    "19. Даны два упорядоченных по невозрастанию односвязных списка. Объедините их в новый упорядоченный по невозрастанию односвязный список."
   ]
  },
  {
   "cell_type": "code",
   "execution_count": null,
   "metadata": {},
   "outputs": [],
   "source": [
    "class Node:\n",
    "    def __init__(self, val, next): \n",
    "        self.val = val \n",
    "        self.next = next \n",
    "    def __str__(self):\n",
    "        return f'{self.val} {self.next}'\n",
    "\n",
    "def merge_sorted(n1, n2):\n",
    "    first = Node(None, None)\n",
    "    last = first\n",
    "    while n1 or n2:\n",
    "        new_val = None \n",
    "        if n1 and n2 and n1.val >= n2.val or n1 and not n2:\n",
    "            new_val = n1.val\n",
    "            n1 = n1.next \n",
    "        else: \n",
    "            new_val = n2.val\n",
    "            n2 = n2.next\n",
    "        last.next = Node(new_val, None)\n",
    "        last = last.next \n",
    "    return first.next\n",
    "\n",
    "n1 = Node(12, Node(9, Node(7, Node(5, None))))\n",
    "print(n1)\n",
    "n2 = Node(15, Node(8, Node(6, Node(4, None))))\n",
    "print(n2)\n",
    "\n",
    "print(merge_sorted(n1, n2)) "
   ]
  },
  {
   "cell_type": "markdown",
   "metadata": {},
   "source": [
    "20. Дан односвязный список. Определить содержит ли он цикл. Список может содержать петли."
   ]
  },
  {
   "cell_type": "code",
   "execution_count": null,
   "metadata": {},
   "outputs": [],
   "source": [
    "class Node:\n",
    "    def __init__(self, val, next): \n",
    "        self.val = val \n",
    "        self.next = next \n",
    "    def __str__(self):\n",
    "        return f'{self.val} {self.next}'\n",
    "\n",
    "def has_cycle(node):\n",
    "    visited = set() \n",
    "    while node.next:\n",
    "        if node.next == node:\n",
    "            return False\n",
    "        if node.next in visited: \n",
    "            return True \n",
    "        node = node.next \n",
    "        visited.add(node) \n",
    "    return False\n",
    "\n",
    "print(has_cycle(Node(12, Node(9, Node(7, Node(5, None))))))\n",
    "n = Node(12, None)\n",
    "n.next = n \n",
    "print(has_cycle(n))\n",
    "n2 = Node(1, Node(2, Node(3, None)))\n",
    "n2.next.next.next = n2\n",
    "print(has_cycle(n2))"
   ]
  },
  {
   "cell_type": "markdown",
   "metadata": {},
   "source": [
    "21. Дана строка `S` состоящая из открывающихся и закрывающихся скобок '(' и ')'. Найти длину наибольшей правильной последовательности скобок.\n",
    "\n",
    "    Последовательность скобок верна если:\n",
    "\n",
    "    * Для каждой открытой скобки есть закрытая\n",
    "    * Открытые скобки должны закрываться в соответствующем порядке."
   ]
  },
  {
   "cell_type": "code",
   "execution_count": null,
   "metadata": {},
   "outputs": [],
   "source": [
    "def _max_correct_braces(s): \n",
    "    nest = best = best_cnt = start_at = curr = 0\n",
    "    for i, c in enumerate(s):\n",
    "        if c == '(':\n",
    "            curr = 0\n",
    "            nest += 1\n",
    "            continue \n",
    "\n",
    "        nest -= 1\n",
    "        curr += 2\n",
    "        if nest < 0:\n",
    "            nest = 0\n",
    "            curr = 0\n",
    "            start_at = i+1\n",
    "            continue\n",
    "\n",
    "        if nest == 0:\n",
    "            curr = i-start_at+1 \n",
    "\n",
    "        if curr == best: \n",
    "            best_cnt += 1\n",
    "        elif curr > best:\n",
    "            best = max(best, curr)\n",
    "            best_cnt = 1\n",
    "\n",
    "    if not best:\n",
    "        best_cnt = 1\n",
    "    # длина, сколько раз встречали\n",
    "    return best, best_cnt \n",
    "\n",
    "def max_correct_braces(s):\n",
    "    m1, c1 = _max_correct_braces(s)\n",
    "    m2, c2 = _max_correct_braces(s[::-1].translate(str.maketrans('()', ')('))) \n",
    "    if m2 > m1:\n",
    "        return m2, c2 \n",
    "    return m1, c1\n",
    "\n",
    "s = input() # (()())\n",
    "print(*max_correct_braces(s))"
   ]
  },
  {
   "cell_type": "markdown",
   "metadata": {},
   "source": [
    "22. Дан список цифр (значения от 0 до 9), найти минимальную возможную сумму двух чисел, составленных из цифр в списке. Все цифры должны быть использованы. \n",
    "\n",
    "    Любое сочетание цифр может быть использовано для составления чисел. Ведущие нули разрешены.\n",
    "\n",
    "    Если составить 2 числа невозможно (например, n==0), тогда \"сумма\" - это значение единственно возможного числа."
   ]
  },
  {
   "cell_type": "code",
   "execution_count": null,
   "metadata": {},
   "outputs": [],
   "source": [
    "def min_sum_from_digits(dig):\n",
    "    dig = sorted(dig) \n",
    "    res = 0 \n",
    "    offset = 1\n",
    "    while dig: \n",
    "        res += dig.pop() * offset\n",
    "        if dig: res += dig.pop() * offset\n",
    "        offset *= 10 \n",
    "    return res \n",
    "\n",
    "print(min_sum_from_digits([1, 2, 3]))"
   ]
  },
  {
   "cell_type": "markdown",
   "metadata": {},
   "source": [
    "23. Реализовать алгоритм пирамидальной сортировки. "
   ]
  },
  {
   "cell_type": "code",
   "execution_count": null,
   "metadata": {},
   "outputs": [],
   "source": [
    "import abc\n",
    "import heapq\n",
    "class Heap(abc.ABC):\n",
    "    @abc.abstractmethod\n",
    "    def _higher(self, x, y): \n",
    "        pass \n",
    "\n",
    "    def __init__(self, arr=None):\n",
    "        arr = [] if arr is None else arr \n",
    "        self.heap = [] \n",
    "        for a in arr: \n",
    "            self.push(a) \n",
    "        \n",
    "    def push(self, a):\n",
    "        self.heap.append(a) \n",
    "        self.__bottom_to_top(len(self.heap)-1)\n",
    "        \n",
    "    def pop(self):\n",
    "        if not self.heap:\n",
    "            raise ValueError('heap is empty!')\n",
    "        self.__swap(0, len(self.heap)-1)\n",
    "        max = self.heap.pop()\n",
    "        self.__top_to_bottom(0)\n",
    "        return max \n",
    "\n",
    "    def __top_to_bottom(self, i):\n",
    "        child = 2*i + 1\n",
    "        if child >= len(self.heap):\n",
    "            return \n",
    "        if child+1 < len(self.heap) and self._higher(self.heap[child+1], self.heap[child]):\n",
    "            child += 1\n",
    "        if self._higher(self.heap[child], self.heap[i]):\n",
    "            self.__swap(i, child) \n",
    "            self.__top_to_bottom(child) \n",
    "\n",
    "    def __bottom_to_top(self, i): \n",
    "        parent = (i-1) // 2 \n",
    "        if parent < 0: \n",
    "            return\n",
    "        if self._higher(self.heap[i], self.heap[parent]):\n",
    "            self.__swap(i, parent) \n",
    "            self.__bottom_to_top(parent)\n",
    "\n",
    "    def __swap(self, i, j):\n",
    "        self.heap[i], self.heap[j] = self.heap[j], self.heap[i]\n",
    "\n",
    "class MinHeap(Heap):\n",
    "    def _higher(self, a, b):\n",
    "        return a < b \n",
    "\n",
    "class MaxHeap(Heap):\n",
    "    def _higher(self, a, b):\n",
    "        return a >= b \n",
    "\n",
    "def pyramid_sort(arr): \n",
    "    h = MaxHeap(arr)\n",
    "    res = [] \n",
    "    while h.heap: \n",
    "        print(*h.heap)\n",
    "        res.append(h.pop())\n",
    "    return res\n",
    "\n",
    "print(*pyramid_sort([5, 33, 6, 1, 42, 105, 68]))\n",
    "print(*pyramid_sort([1, 2, 3, 4, 5, 6]))"
   ]
  },
  {
   "cell_type": "markdown",
   "metadata": {},
   "source": [
    "24. Дана строка `S` с повторяющимися буквами. Переставить буквы таким образом, чтобы одинаковые буквы не стояли рядом.\n",
    "    \n",
    "    *Примечание:* строка содержит только строчные латинские буквы и может иметь множество решений. Верните любое из них."
   ]
  },
  {
   "cell_type": "code",
   "execution_count": null,
   "metadata": {},
   "outputs": [],
   "source": [
    "def split_adj(s):\n",
    "    s = list(s)\n",
    "    cnt = {} \n",
    "    for c in s:\n",
    "        if c not in cnt:\n",
    "            cnt[c] = 0\n",
    "        cnt[c] += 1\n",
    "    res = '' \n",
    "    while cnt:\n",
    "        keys = list(cnt.keys())\n",
    "        if len(keys) == 1 and (cnt[keys[0]] > 1 or res and res[-1] == keys[0]):\n",
    "            raise ValueError('It is impossible to swap items to have no adjacent duplicates')\n",
    "        for k in keys: \n",
    "            if not cnt[k]:\n",
    "                del cnt[k]\n",
    "            else:\n",
    "                res += k \n",
    "                cnt[k] -= 1\n",
    "    return res\n",
    "\n",
    "print(split_adj('aabbcc'))"
   ]
  },
  {
   "cell_type": "markdown",
   "metadata": {},
   "source": [
    "26. Дано `N` городов и известны расстояния между ними. Не все города связаны друг с другом дорогой. Найти все возможные маршруты из города А в город В (ни в один город не заходить дважды). Определить самый длинный и самый короткий маршрут."
   ]
  },
  {
   "cell_type": "code",
   "execution_count": null,
   "metadata": {},
   "outputs": [],
   "source": [
    "def find_routes(edges, start, target):\n",
    "    adj = {}\n",
    "    for a, b, cost in edges:\n",
    "        if a not in adj:\n",
    "            adj[a] = set() \n",
    "        adj[a].add((b, cost))\n",
    "\n",
    "    routes = [] \n",
    "    def dfs(a, curr_route, curr_length): \n",
    "        if a == target:\n",
    "            routes.append((curr_route.copy(), curr_length))\n",
    "            return\n",
    "        for b, length in adj[a]:\n",
    "            if b in curr_route: # loop\n",
    "                continue\n",
    "            curr_length += length \n",
    "            curr_route.append(b)\n",
    "            dfs(b, curr_route, curr_length)\n",
    "            curr_route.pop() \n",
    "            curr_length -= length \n",
    "    \n",
    "    dfs(start, [start], 0)\n",
    "    return routes \n",
    "\n",
    "def get_min_and_max_route(routes):\n",
    "    min_i = max_i = 0 \n",
    "    for i in range(len(routes)):\n",
    "        length = routes[i][1]\n",
    "        if length < routes[min_i][1]:\n",
    "            min_i = i \n",
    "        if length > routes[max_i][1]:\n",
    "            max_i = i\n",
    "    return routes[min_i], routes[max_i]\n",
    "\n",
    "routes = find_routes({\n",
    "    (1, 2, 10),\n",
    "    (1, 4, 30),\n",
    "    (1, 5, 100),\n",
    "    (2, 3, 50),\n",
    "    (3, 5, 10),\n",
    "    (4, 3, 20),\n",
    "    (4, 5, 60),\n",
    "}, 1, 5)\n",
    "print(routes)\n",
    "print(get_min_and_max_route(routes))"
   ]
  },
  {
   "cell_type": "markdown",
   "metadata": {},
   "source": [
    "27. Дан неориентированный невзвешенный граф. Необходимо посчитать количество его компонент связности и вернуть их в виде двумерного списка, количество строк которого соответствует количеству компонент, а в строках содержится множество вершин каждой компоненты."
   ]
  },
  {
   "cell_type": "code",
   "execution_count": null,
   "metadata": {},
   "outputs": [],
   "source": [
    "def components(adj):\n",
    "    def dfs(adj, start, component, num):\n",
    "        component[start] = num \n",
    "        for end in adj[start]:\n",
    "            if end not in component:\n",
    "                dfs(adj, end, component, num)\n",
    "    \n",
    "    num = 0\n",
    "    component = {} \n",
    "    for a in adj:\n",
    "        if a not in component:\n",
    "            dfs(adj, a, component, num)\n",
    "            num += 1\n",
    "    \n",
    "    return [{a for a, c_num in component.items() if c_num == i} for i in range(num)] \n",
    "\n",
    "print(components({1: {4}, 4: {1}, 0: {2}, 2: {5, 3}, 3: {5}, 5: {2}}))"
   ]
  },
  {
   "cell_type": "markdown",
   "metadata": {},
   "source": [
    "28. Дан ориентированный невзвешенный граф. Определить является ли данный граф ациклическим."
   ]
  },
  {
   "cell_type": "code",
   "execution_count": null,
   "metadata": {},
   "outputs": [],
   "source": [
    "from collections import deque\n",
    "\n",
    "def bfs_has_cycle(adj, start):\n",
    "    visited = {start}\n",
    "    queue = deque([start])\n",
    "\n",
    "    while queue:\n",
    "        node = queue.popleft()\n",
    "        for neighbor in adj.get(node, []):\n",
    "            if neighbor in visited:\n",
    "                return True\n",
    "            visited.add(neighbor)\n",
    "            queue.append(neighbor)\n",
    "    return False\n",
    "\n",
    "def is_asyclic(adj):\n",
    "    for start in adj:\n",
    "        if bfs_has_cycle(adj, start):\n",
    "            return False \n",
    "    return True\n",
    "\n",
    "print(is_asyclic({1: {2}, 2: {3}, 3: {1}}))\n",
    "print(is_asyclic({1: {2}, 2: {3}, 3: {4, 5}}))"
   ]
  },
  {
   "cell_type": "markdown",
   "metadata": {},
   "source": [
    "29. Даны `N` процессов. Каждый процесс может быть запущен сразу, а может быть только после выполнения некоторого количества предыдущих процессов. Список зависимостей дан в списке `depend`. `depend[i]` - список процессов, от которых зависит процесс `i`. Найти порядок, в котором необходимо выполнять процессы, чтобы зависимый процесс начинался после выполнения предыдущих. Если таких порядков несколько, верните любой. Гарантируется, что существует хотя бы один процесс, который не имеет зависимостей."
   ]
  },
  {
   "cell_type": "code",
   "execution_count": null,
   "metadata": {},
   "outputs": [],
   "source": [
    "def topological_sort(adj):\n",
    "    if not is_asyclic(adj):\n",
    "        raise ValueError('graph must be asyclic in order to have a topological sorting')\n",
    "    visited = set()\n",
    "    topo_order = [] \n",
    "    def dfs(a):\n",
    "        visited.add(a)\n",
    "        for b in adj.get(a, []):\n",
    "            if b not in visited:\n",
    "                dfs(b) \n",
    "        topo_order.append(a)\n",
    "    for a in adj:\n",
    "        if a not in visited:\n",
    "            dfs(a)\n",
    "    return topo_order[::-1]\n",
    "\n",
    "\n",
    "def inverse_adj(adj):\n",
    "    inv = {} \n",
    "    for a, neighbors in adj.items():\n",
    "        for b in neighbors:\n",
    "            if b not in inv:\n",
    "                inv[b] = set() \n",
    "            inv[b].add(a)\n",
    "\n",
    "    print(inv)\n",
    "    return inv\n",
    "\n",
    "def order_processes(depend):\n",
    "    return topological_sort(inverse_adj(depend))\n",
    "\n",
    "print(order_processes({5: {}, 4: {}, 0: {4, 5}, 2: {5}, 1: {3, 4}, 3: {2}}))"
   ]
  },
  {
   "cell_type": "markdown",
   "metadata": {},
   "source": [
    "31. Система двусторонних дорог такова, что для любой пары городов можно указать соединяющий их путь. Найдите такой город, сумма расстояний от которого до остальных городов минимальна."
   ]
  },
  {
   "cell_type": "code",
   "execution_count": null,
   "metadata": {},
   "outputs": [],
   "source": [
    "def find_city_with_max_neighbor_dist_sum(adj):\n",
    "    res, max_sum = 0, 0\n",
    "    for a, neighbors in adj.items():\n",
    "        s = sum([length for b, length in neighbors])\n",
    "        if s >= max_sum: \n",
    "            res, max_sum = a, s \n",
    "    return res, max_sum \n",
    "adj = {\n",
    "        0: [(1, 1), (2, 2)],\n",
    "        1: [(0, 1), (2, 3)],\n",
    "        2: [(0, 2), (1, 3)]\n",
    "    }"
   ]
  },
  {
   "cell_type": "markdown",
   "metadata": {},
   "source": [
    "32. За проезд по каждой дороге взымается некоторая пошлина. Найдите путь из города А в город B с минимальной величиной S+P, где S - сумма длин дорог пути, а P - сумма пошлин проезжаемых дорог."
   ]
  },
  {
   "cell_type": "code",
   "execution_count": null,
   "metadata": {},
   "outputs": [],
   "source": [
    "def deijkstra(adj, start):\n",
    "    dist = {node: float('inf') for node in adj}\n",
    "    dist[start] = 0\n",
    "    visited = set()\n",
    "    while len(visited) != len(adj):\n",
    "        curr = min((node for node in adj if node not in visited), key=dist.get)\n",
    "        for neighbor, length in adj[curr]:\n",
    "            new_dist = dist[curr] + length\n",
    "            if new_dist < dist[neighbor]:\n",
    "                dist[neighbor] = new_dist\n",
    "        visited.add(curr)\n",
    "    return dist\n",
    "def edges_to_adj(edges):\n",
    "    adj = {}\n",
    "    for a, b, length, tax in edges:\n",
    "        if a not in adj:\n",
    "            adj[a] = set()\n",
    "        total_length = length + tax\n",
    "        adj[a].add((b, total_length))\n",
    "        if b not in adj:\n",
    "            adj[b] = set()\n",
    "        adj[b].add((a, total_length))\n",
    "    return adj\n",
    "def get_min_total(edges, a, b):\n",
    "    adj = edges_to_adj(edges)\n",
    "    dist = deijkstra(adj, a)\n",
    "    return dist.get(b, float('inf'))\n",
    "a, b = 0, 2\n",
    "edges = [\n",
    "    (0, 1, 2, 1),\n",
    "    (1, 2, 3, 1),\n",
    "    (0, 2, 5, 2)\n",
    "]\n",
    "print(get_min_total(edges, a, b))"
   ]
  },
  {
   "cell_type": "markdown",
   "metadata": {},
   "source": [
    "33. Дан взвешенный ориентированный граф с `n` узлами и `m` ребрами. Узлы пронумерованы от `0` до `n-1`, необходимо проверить, содержит ли граф цикл отрицательного веса.\n",
    "\n",
    "    *Примечание:* `edges[i]` состоит из вершин `u`, `v` и веса."
   ]
  },
  {
   "cell_type": "code",
   "execution_count": null,
   "metadata": {},
   "outputs": [],
   "source": [
    "def bellman_ford(v, edges, start):\n",
    "    dist = [float('inf')]*v \n",
    "    dist[start] = 0 \n",
    "    for _ in range(v-1):\n",
    "        for u, v, length in edges:\n",
    "            if dist[v] > dist[u] + length: \n",
    "                dist[v] = dist[u] + length \n",
    "    for u, v, length in edges:\n",
    "        if dist[v] > dist[u] + length: \n",
    "            return -1\n",
    "    return dist \n",
    "\n",
    "class Solution:\n",
    "\tdef isNegativeWeightCycle(self, n, edges):\n",
    "\t    return int(any(\n",
    "\t        bellman_ford(n, edges, start) == -1 for start in range(n)\n",
    "\t    ))\n",
    "\n",
    "edges= [(0, 1, 1), (1, 2, 1), (2, 0, 1)]\n",
    "n = 3\n",
    "Solution = Solution()\n",
    "print(Solution.isNegativeWeightCycle(n, edges))"
   ]
  },
  {
   "cell_type": "markdown",
   "metadata": {},
   "source": [
    "34. Найти минимальное покрывающее дерево для заданного графа. Вывести список его ребер и суммарный вес."
   ]
  },
  {
   "cell_type": "code",
   "execution_count": null,
   "metadata": {},
   "outputs": [],
   "source": [
    "class DisjSet:\n",
    "    def __init__(self, n):\n",
    "        self.rank = [1] * n\n",
    "        self.parent = [i for i in range(n)]\n",
    "\n",
    "    def find(self, x):\n",
    "        if self.parent[x] != x:\n",
    "            self.parent[x] = self.find(self.parent[x])\n",
    "        return self.parent[x]\n",
    "\n",
    "    def union(self, x, y):\n",
    "        xset = self.find(x)\n",
    "        yset = self.find(y)\n",
    "        if xset == yset:\n",
    "            return\n",
    "        if self.rank[xset] < self.rank[yset]:\n",
    "            self.parent[xset] = yset\n",
    "        elif self.rank[xset] > self.rank[yset]:\n",
    "            self.parent[yset] = xset\n",
    "        else:\n",
    "            self.parent[yset] = xset\n",
    "            self.rank[xset] = self.rank[xset] + 1\n",
    "\n",
    "    \n",
    "def kruskalMST(n, edges):\n",
    "    disj_set = DisjSet(n)\n",
    "    edges = sorted(edges, reverse=True, key=lambda e: e[2])\n",
    "    n_included = 0\n",
    "    result = []\n",
    "    while n_included < n - 1:\n",
    "        a, b, w = edges.pop() \n",
    "        if disj_set.find(a) != disj_set.find(b):\n",
    "            n_included += 1\n",
    "            result.append([a, b, w])\n",
    "            disj_set.union(a, b)\n",
    "    return result, sum(map(lambda e: e[2], result))\n",
    "\n",
    "\n",
    "n, m = map(int, input().split()) \n",
    "edges = []\n",
    "for _ in range(m): \n",
    "    a, b, w = map(int, input().split())\n",
    "    edges.append([a-1, b-1, w])\n",
    "\n",
    "mst, total_w = kruskalMST(n, edges)\n",
    "print(total_w)\n"
   ]
  },
  {
   "cell_type": "markdown",
   "metadata": {},
   "source": [
    "35. В неориентированный взвешенный граф добавляют ребра. Напишите программу, которая, после добавления ребер, находит сумму весов ребер в компоненте связности.\n",
    "\n",
    "    На вход подаются два числа `n` и `m` - количество вершин в графе и количество производимых добавлений и запросов. Далее следует список `add` из m строк. Каждая строка состоит из трех чисел `x, y, w`. Это означает, что в граф добавляется ребро из вершины x в вершину y веса w. Кратные ребра допустимы. И число `A` - вершина, для компоненты связности которой необходимо найти суммарный вес ребер."
   ]
  },
  {
   "cell_type": "code",
   "execution_count": null,
   "metadata": {},
   "outputs": [],
   "source": [
    "# ejudge: https://informatics.msk.ru/mod/statements/view.php?chapterid=1376#1\n",
    "\n",
    "# простое решение за O(n^2)\n",
    "# на информатиксе не проходит последние три теста по времени. \n",
    "# n, ops = map(int, input().split()) \n",
    "\n",
    "# component = [0]*n # key is vertex number, value is its component number \n",
    "# size = [0]*n # key is component number, value is sum of its members\n",
    "# for i in range(n):\n",
    "#     component[i] = i # currently all vertexes are separated (there is no edges), so each vertex has its own component\n",
    "#     size[i] = 0 # no edges, so sum is zero\n",
    "\n",
    "# for _ in range(ops):\n",
    "#     query = [int(q) for q in input().split()]\n",
    "#     op, args = query[0], query[1:] \n",
    "#     if op == 2:\n",
    "#         x = args[0] - 1\n",
    "#         print(size[component[x]])\n",
    "#         continue \n",
    "#     x, y, w = args\n",
    "#     x -= 1 \n",
    "#     y -= 1\n",
    "#     comp_x, comp_y = component[x], component[y]  \n",
    "#     if comp_x == comp_y:\n",
    "#         size[comp_x] += w \n",
    "#         continue \n",
    "#     # these vertexes were from different components, let's now merge these components\n",
    "#     for i in range(n):\n",
    "#         if component[i] == comp_y:\n",
    "#             component[i] = comp_x\n",
    "#     size[comp_x] += w + size[comp_y]"
   ]
  },
  {
   "cell_type": "code",
   "execution_count": null,
   "metadata": {},
   "outputs": [],
   "source": [
    "# эффективное решение через Disjoint Set. \n",
    "# на информатиксе не проходит последние 2 теста по времени, но это из-за медленности Питона\n",
    "# переписал на C++ этот же алгоритм и получил OK. \n",
    "\n",
    "class DisjSet: # source: Lection 9\n",
    "    def __init__(self, n):\n",
    "        self.rank = [1] * n\n",
    "        self.parent = [i for i in range(n)]\n",
    "        self.size = [0]*n \n",
    "\n",
    "    def find(self, x):\n",
    "        if self.parent[x] != x:\n",
    "            self.parent[x] = self.find(self.parent[x])\n",
    "        return self.parent[x]\n",
    "\n",
    "    def union(self, x, y, weight):\n",
    "        xset = self.find(x)\n",
    "        yset = self.find(y)\n",
    "        if xset == yset:\n",
    "            self.size[xset] += weight\n",
    "            return\n",
    "        if self.rank[xset] < self.rank[yset]:\n",
    "            self.size[yset] += self.size[xset] + weight\n",
    "            self.parent[xset] = yset\n",
    "        elif self.rank[xset] > self.rank[yset]:\n",
    "            self.size[xset] += self.size[yset] + weight\n",
    "            self.parent[yset] = xset\n",
    "        else:\n",
    "            self.size[xset] += self.size[yset] + weight\n",
    "            self.parent[yset] = xset\n",
    "            self.rank[xset] = self.rank[xset] + 1\n",
    "\n",
    "\n",
    "# n, ops = map(int, input().split()) \n",
    "\n",
    "# disj_set = DisjSet(n)\n",
    "\n",
    "# for _ in range(ops):\n",
    "#     query = [int(q) for q in input().split()]\n",
    "#     op, args = query[0], query[1:] \n",
    "#     if op == 2:\n",
    "#         x = args[0] - 1\n",
    "#         print(disj_set.size[disj_set.find(x)])\n",
    "#         continue \n",
    "#     x, y, w = args\n",
    "#     x -= 1 \n",
    "#     y -= 1\n",
    "#     disj_set.union(x, y, w)"
   ]
  },
  {
   "cell_type": "markdown",
   "metadata": {},
   "source": [
    "36. Дан граф представляющий собой транспортную сеть с N вершина пронумерованными 1 до N и M ребрами. Найти максимальный поток из вершины 1 до вершины N."
   ]
  },
  {
   "cell_type": "code",
   "execution_count": null,
   "metadata": {},
   "outputs": [],
   "source": [
    "from collections import defaultdict\n",
    "class Graph:\n",
    "    def __init__(self, graph):\n",
    "        self.graph = graph\n",
    "        self. ROW = len(graph)\n",
    "    def BFS(self, s, t, parent):\n",
    "        visited = [False]*(self.ROW)\n",
    "        queue = []\n",
    "        queue.append(s)\n",
    "        visited[s] = True\n",
    "        while queue:\n",
    "            u = queue.pop(0)\n",
    "            for ind, val in enumerate(self.graph[u]):\n",
    "                if visited[ind] == False and val > 0:\n",
    "                    queue.append(ind)\n",
    "                    visited[ind] = True\n",
    "                    parent[ind] = u\n",
    "                    if ind == t:\n",
    "                        return True\n",
    "        return False\n",
    "    def FordFulkerson(self, source, sink):\n",
    "        parent = [-1]*(self.ROW)\n",
    "        max_flow = 0\n",
    "        while self.BFS(source, sink, parent):\n",
    "            path_flow = float(\"Inf\")\n",
    "            s = sink\n",
    "            while s != source:\n",
    "                path_flow = min(path_flow, self.graph[parent[s]][s])\n",
    "                s = parent[s]\n",
    "            max_flow += path_flow\n",
    "            \n",
    "            v = sink\n",
    "            while v != source:\n",
    "                u = parent[v]\n",
    "                self.graph[u][v] -= path_flow\n",
    "                self.graph[v][u] += path_flow\n",
    "                v = parent[v]\n",
    "        return max_flow"
   ]
  },
  {
   "cell_type": "markdown",
   "metadata": {},
   "source": [
    "37. Дано бинарное дерево. Выполнить прямой/центрированный/обратный/уровневый обход дерева."
   ]
  },
  {
   "cell_type": "code",
   "execution_count": null,
   "metadata": {},
   "outputs": [],
   "source": [
    "from collections import deque \n",
    "\n",
    "class Node:\n",
    "    def __init__(self, val, left=None, right=None):\n",
    "        self.val = val \n",
    "        self.left = left \n",
    "        self.right = right \n",
    "    def __str__(self):\n",
    "        return f'Value: {val}\\nLeft: {left}\\nRight: {right}'\n",
    "\n",
    "def nlr(node): # прямой \n",
    "    if node is None: return \n",
    "    print(node.val, end='')\n",
    "    nlr(node.left)\n",
    "    nlr(node.right)\n",
    "\n",
    "def lnr(node): # центрированный \n",
    "    if node is None: return \n",
    "    lnr(node.left)\n",
    "    print(node.val, end='')\n",
    "    lnr(node.right) \n",
    "\n",
    "def lrn(node): # обратный \n",
    "    if node is None: return \n",
    "    lrn(node.left)\n",
    "    lrn(node.right)\n",
    "    print(node.val, end='')\n",
    "\n",
    "def dfs_level(root): # уровневый, через обход в ширину \n",
    "    queue = deque([root])\n",
    "    while queue:\n",
    "        node = queue.popleft()\n",
    "        if node is None: continue \n",
    "        print(node.val, end='')\n",
    "        queue.append(node.left) \n",
    "        queue.append(node.right)\n",
    "\n",
    "\n",
    "t = Node('F', Node('B', Node('A'), Node('D', Node('C'), Node('E'))), Node('G', None, Node('I', Node('H'), None)))\n",
    "nlr(t)\n",
    "print()\n",
    "lnr(t)\n",
    "print()\n",
    "lrn(t)\n",
    "print() \n",
    "dfs_level(t)\n"
   ]
  },
  {
   "cell_type": "markdown",
   "metadata": {},
   "source": [
    "38. Дано бинарное дерево. Проверить является ли данное дерево сбалансированным."
   ]
  },
  {
   "cell_type": "code",
   "execution_count": 68,
   "metadata": {},
   "outputs": [],
   "source": [
    "class Node:\n",
    "    def __init__(self, val, left, right):\n",
    "        self.val = val \n",
    "        self.left = left \n",
    "        self.right = right \n",
    "    def __str__(self):\n",
    "        return f'Value: {val}\\nLeft: {left}\\nRight: {right}'\n",
    "\n",
    "def bin_tree_height(root) -> int: # from task #40\n",
    "    if root is None: \n",
    "        return 0\n",
    "    return 1 + max(bin_tree_height(root.left), bin_tree_height(root.right))\n",
    "\n",
    "def is_balanced_bin_tree(root) -> bool:\n",
    "    if root is None: \n",
    "        return True\n",
    "    return abs(bin_tree_height(root.left) - bin_tree_height(root.right)) <= 1\n",
    "\n",
    "t1 = Node(1, Node(1, None, None), Node(1, None, None))\n",
    "assert is_balanced_bin_tree(t1) == True\n",
    "t2 = Node(1, t1, t1)\n",
    "assert is_balanced_bin_tree(t2) == True\n",
    "t3 = Node(1, t1, None) \n",
    "assert is_balanced_bin_tree(t3) == False\n",
    "t4 = Node(1, t3, t1)\n",
    "assert is_balanced_bin_tree(t4) == True\n",
    "t5 = Node(1, t4, t1) \n",
    "assert is_balanced_bin_tree(t5) == False"
   ]
  },
  {
   "cell_type": "markdown",
   "metadata": {},
   "source": [
    "39. Дано бинарное дерево. Проверить является ли данное дерево бинарным деревом поиска."
   ]
  },
  {
   "cell_type": "code",
   "execution_count": 2,
   "metadata": {},
   "outputs": [
    {
     "name": "stdout",
     "output_type": "stream",
     "text": [
      "Дерево является бинарным деревом поиска: True\n",
      "Дерево является бинарным деревом поиска: False\n"
     ]
    }
   ],
   "source": [
    "class TreeNode:\n",
    "    def __init__(self, data):\n",
    "        self.data = data\n",
    "        self.left = None\n",
    "        self.right = None\n",
    "\n",
    "def isBST(root, less=float('inf'), greater=float('-inf')):\n",
    "    if root is None:\n",
    "        return True \n",
    "    if not (greater <= root.data < less):\n",
    "        return False\n",
    "    return isBST(root.left, root.data, greater) and isBST(root.right, less, root.data)\n",
    "\n",
    "class Solution:\n",
    "    def isBST(self, root):\n",
    "        return isBST(root)\n",
    "    \n",
    "root = TreeNode(5)\n",
    "root.left = TreeNode(3)\n",
    "root.right = TreeNode(7)\n",
    "root.left.left = TreeNode(2)\n",
    "root.left.right = TreeNode(4)\n",
    "root.right.right = TreeNode(8)\n",
    "solution = Solution()\n",
    "result = solution.isBST(root)\n",
    "print(\"Дерево является бинарным деревом поиска:\", result)\n",
    "root_invalid = TreeNode(5)\n",
    "root_invalid.left = TreeNode(3)\n",
    "root_invalid.right = TreeNode(7)\n",
    "root_invalid.left.left = TreeNode(6)  # Ошибка здесь\n",
    "root_invalid.left.right = TreeNode(4)\n",
    "result_invalid = solution.isBST(root_invalid)\n",
    "print(\"Дерево является бинарным деревом поиска:\", result_invalid)\n"
   ]
  },
  {
   "cell_type": "markdown",
   "metadata": {},
   "source": [
    "40. Дано бинарное дерево. Найти высоту дерева."
   ]
  },
  {
   "cell_type": "code",
   "execution_count": 3,
   "metadata": {},
   "outputs": [],
   "source": [
    "class Node:\n",
    "    def __init__(self, val, left, right):\n",
    "        self.val = val \n",
    "        self.left = left \n",
    "        self.right = right \n",
    "    def __str__(self):\n",
    "        return f'Value: {val}\\nLeft: {left}\\nRight: {right}'\n",
    "\n",
    "def bin_tree_height(root) -> int:\n",
    "    if root is None: \n",
    "        return 0\n",
    "    return 1 + max(bin_tree_height(root.left), bin_tree_height(root.right))\n",
    "\n",
    "t1 = Node(5, Node(6, None, None), Node(7, None, None))\n",
    "assert bin_tree_height(t1) == 2 \n",
    "t2 = Node(5, Node(6, Node(7, Node(8, Node(9, None, None), None), None, ), None), None)\n",
    "assert bin_tree_height(t2) == 5 \n",
    "t3 = Node(5, Node(6, Node(7, Node(8, Node(9, None, None), None), None), None), t2)\n",
    "assert bin_tree_height(t3) == 6 \n",
    "t4 = Node(5, Node(6, Node(7, t3, t3), None), t3)\n",
    "assert bin_tree_height(t4) == 9"
   ]
  },
  {
   "cell_type": "markdown",
   "metadata": {},
   "source": [
    "41. Дано бинарное дерево. Найти ширину дерева."
   ]
  },
  {
   "cell_type": "code",
   "execution_count": null,
   "metadata": {},
   "outputs": [],
   "source": [
    "def get_max_width(root):\n",
    "    max_width = 0        \n",
    "    level = [root]\n",
    "    while level:\n",
    "        max_width = max(max_width, len(level))\n",
    "        new_level = [] \n",
    "        while level:\n",
    "            node = level.pop()\n",
    "            if node.right is not None:\n",
    "                new_level.append(node.right)\n",
    "            if node.left is not None:\n",
    "                new_level.append(node.left)\n",
    "        level = new_level[::-1]\n",
    "    return max_width"
   ]
  },
  {
   "cell_type": "markdown",
   "metadata": {},
   "source": [
    "42. Дано бинарное дерево поиска. Реализовать функцию поиска/вставки/удаления узла."
   ]
  },
  {
   "cell_type": "code",
   "execution_count": null,
   "metadata": {},
   "outputs": [],
   "source": [
    "def find(node, x):\n",
    "    if node is None: \n",
    "        return False \n",
    "    if node.val == x: \n",
    "        return True \n",
    "    return find(node.left, x) if x < node.val else find(node.right, x) \n",
    "\n",
    "def insert(node, x):\n",
    "    if x <= node.val\n",
    "        if node.left is None: \n",
    "            node.left = x \n",
    "        else: \n",
    "            insert(node.left, x) \n",
    "    else:\n",
    "        if node.right is None:\n",
    "            node.right = x \n",
    "        else: \n",
    "            insert(node.right, x)\n",
    "\n",
    "def delete(node, x):\n",
    "    if node is None: \n",
    "        return None \n",
    "    if x < node.val:\n",
    "        node.left = delete(node.left, x) \n",
    "        return\n",
    "    elif x > node.val:\n",
    "        node.right = delete(node.right, x)\n",
    "        return\n",
    "    if node.left is None: \n",
    "        temp = root.right \n",
    "        root = None \n",
    "        return temp \n",
    "    elif node.right is None: \n",
    "        temp = root.left \n",
    "        root = None \n",
    "        return temp \n",
    "    next = root.right\n",
    "    while next.left is not None:\n",
    "        next = next.left \n",
    "    node.val = next.val \n",
    "    node.right = delete(node.right, node.val)"
   ]
  },
  {
   "cell_type": "markdown",
   "metadata": {},
   "source": [
    "43. Дано бинарное дерево. Выполнить прямой/центрированный/обратный обход дерева не используя рекурсию."
   ]
  },
  {
   "cell_type": "code",
   "execution_count": null,
   "metadata": {},
   "outputs": [],
   "source": [
    "class Node:\n",
    "    def __init__(self, val, left=None, right=None):\n",
    "        self.val = val \n",
    "        self.left = left \n",
    "        self.right = right \n",
    "    def __str__(self):\n",
    "        return f'Value: {self.val}\\nLeft: {self.left}\\nRight: {self.right}'\n",
    "\n",
    "def nlr(node): # прямой \n",
    "    if node is None: return \n",
    "    stack = [node] \n",
    "    while stack: \n",
    "        node = stack.pop() \n",
    "        if node.right is not None:\n",
    "            stack.append(node.right)\n",
    "        if node.left is not None:\n",
    "            stack.append(node.left)\n",
    "        if not node.left and not node.right:\n",
    "            print(node.val, end='')\n",
    "        else: \n",
    "            stack.append(Node(node.val))\n",
    "\n",
    "def lnr(node): # центрированный \n",
    "    if node is None: return \n",
    "    stack = [node] \n",
    "    while stack: \n",
    "        node = stack.pop() \n",
    "        if node.right is not None:\n",
    "            stack.append(node.right)\n",
    "        if not node.left and not node.right:\n",
    "            print(node.val, end='')\n",
    "        else:\n",
    "            stack.append(Node(node.val))\n",
    "        if node.left is not None:\n",
    "            stack.append(node.left)\n",
    "\n",
    "def lrn(node): # обратный \n",
    "    stack = [node] \n",
    "    while stack: \n",
    "        node = stack.pop() \n",
    "        if not node.left and not node.right:\n",
    "            print(node.val, end='')\n",
    "        else:\n",
    "            stack.append(Node(node.val))\n",
    "        if node.right is not None:\n",
    "            stack.append(node.right)\n",
    "        if node.left is not None:\n",
    "            stack.append(node.left)\n",
    "\n",
    "t = Node('F', Node('B', Node('A'), Node('D', Node('C'), Node('E'))), Node('G', None, Node('I', Node('H'), None)))\n",
    "nlr(t)\n",
    "print()\n",
    "lnr(t)\n",
    "print()\n",
    "lrn(t)"
   ]
  },
  {
   "cell_type": "markdown",
   "metadata": {},
   "source": [
    "44. Дано бинарное дерево поиска. Найти все тупиковые узлы. Под тупиковым узлом понимается узел, добавление потомков к которому невозможно."
   ]
  },
  {
   "cell_type": "code",
   "execution_count": null,
   "metadata": {},
   "outputs": [],
   "source": [
    "class Solution:\n",
    "    def isDeadEnd(self, root):\n",
    "        deadends = [] \n",
    "        def dfs(a, smaller, greater):\n",
    "            if a is None:\n",
    "                return \n",
    "            if a.data - 1 == greater and a.data + 1 == smaller:\n",
    "                deadends.append(a.data)\n",
    "            dfs(a.left, a.data, greater)\n",
    "            dfs(a.right, smaller, a.data)\n",
    "        dfs(root, float('inf'), 0)\n",
    "        return deadends"
   ]
  },
  {
   "cell_type": "markdown",
   "metadata": {},
   "source": [
    "45. Дан корень бинарного дерева. Необходимо преобразовать дерево в односвязный список.\n",
    "    Список должен использовать тот же класс `Node`, правый указатель должен ссылаться на следующий элемент в списке, левый всегда `None`.\n",
    "    Список должен иметь тот же порядок, что и прямой обход бинарного дерева."
   ]
  },
  {
   "cell_type": "code",
   "execution_count": null,
   "metadata": {},
   "outputs": [],
   "source": [
    "def tree_to_list(root):\n",
    "    ll_start = Node(None, None, None)\n",
    "    ll_end = ll_start\n",
    "    stack = [root] \n",
    "    while stack: \n",
    "        node = stack.pop() \n",
    "        if node.right is not None:\n",
    "            stack.append(node.right)\n",
    "        if node.left is not None:\n",
    "            stack.append(node.left)\n",
    "        if not node.left and not node.right:\n",
    "            ll_end.right = Node(node.val, None, None)\n",
    "            ll_end = ll_end.right\n",
    "        else: \n",
    "            stack.append(Node(node.val))\n",
    "    return ll_start.right\n",
    "\n",
    "t = Node('F', Node('B', Node('A'), Node('D', Node('C'), Node('E'))), Node('G', None, Node('I', Node('H'), None)))\n",
    "print(tree_to_list(t))"
   ]
  },
  {
   "cell_type": "markdown",
   "metadata": {},
   "source": [
    "46. Дано представление полного бинарного дерева в виде списка. Необходимо построить бинарное дерево."
   ]
  },
  {
   "cell_type": "code",
   "execution_count": null,
   "metadata": {},
   "outputs": [],
   "source": [
    "from collections import deque \n",
    "def convert(head):\n",
    "    tree = Tree(head.data)\n",
    "    level = deque([tree]) \n",
    "    while level:\n",
    "        node = level.popleft()\n",
    "        if head.next:\n",
    "            node.left = Tree(head.next.data) \n",
    "            head = head.next\n",
    "            level.append(node.left)\n",
    "        if head.next:\n",
    "            node.right = Tree(head.next.data) \n",
    "            head = head.next \n",
    "            level.append(node.right)\n",
    "    return tree"
   ]
  },
  {
   "cell_type": "markdown",
   "metadata": {},
   "source": [
    "47. Дано бинарное дерево поиска с целочисленными ключами. Найти преемника и предшественника данного ключа `key`. Если какого-то значения не существует, верните вместо него `None`.\n",
    "\n",
    "    *Примечание:* преемник и предшественник - ближайшие значения после и до указанного ключа."
   ]
  },
  {
   "cell_type": "code",
   "execution_count": 15,
   "metadata": {},
   "outputs": [],
   "source": [
    "def get_pre_suc(root, key):\n",
    "    pre, suc = Node(-1), Node(-1)\n",
    "    while root:\n",
    "        if root.key == key:\n",
    "            if root.left:\n",
    "                pre = root.left\n",
    "                while pre.right:\n",
    "                    pre = pre.right\n",
    "            if root.right:\n",
    "                suc = root.right\n",
    "                while suc.left:\n",
    "                    suc = suc.left\n",
    "            return pre, suc\n",
    "\n",
    "        if root.key > key:\n",
    "            suc = root\n",
    "            root = root.left\n",
    "        else:\n",
    "            pre = root\n",
    "            root = root.right\n",
    "    return pre, suc\n",
    "\n",
    "class Solution:\n",
    "    def findPreSuc(self, root, pre, suc, key):\n",
    "        got_pre, got_suc = get_pre_suc(root, key)\n",
    "        pre.key, suc.key = got_pre.key, got_suc.key"
   ]
  },
  {
   "cell_type": "markdown",
   "metadata": {},
   "source": [
    "48. Найти Z-функцию для строки."
   ]
  },
  {
   "cell_type": "code",
   "execution_count": null,
   "metadata": {},
   "outputs": [],
   "source": [
    "def z_func(s):\n",
    "    n = len(s)\n",
    "    z = [0]*n\n",
    "    z[0] = n\n",
    "    l, r = 0, 0 \n",
    "    for i in range(1, n):\n",
    "        if i <= r and z[i-l] < r-i+1:\n",
    "            z[i] = z[i-l]\n",
    "            continue\n",
    "        l = i \n",
    "        if i > r:\n",
    "            r = l-1\n",
    "        while r+1 < n and s[r+1] == s[r+1-l]:\n",
    "            r += 1 \n",
    "        z[i] = r-l+1\n",
    "    return z\n",
    "\n",
    "s = input() \n",
    "print(z_func(s))"
   ]
  },
  {
   "cell_type": "markdown",
   "metadata": {},
   "source": [
    "49. Найти префикс-функцию для строки."
   ]
  },
  {
   "cell_type": "code",
   "execution_count": null,
   "metadata": {},
   "outputs": [],
   "source": [
    "def prefix(s):\n",
    "    n = len(s)\n",
    "    pref = [0]*n \n",
    "    for i in range(1, n):\n",
    "        p = pref[i-1]\n",
    "        while p > 0 and s[p] != s[i]:\n",
    "            p = pref[p - 1] \n",
    "        if s[p] == s[i]:\n",
    "           p += 1\n",
    "        pref[i] = p\n",
    "    return pref\n",
    "\n",
    "# s = input() \n",
    "# print(*prefix(s))"
   ]
  },
  {
   "cell_type": "markdown",
   "metadata": {},
   "source": [
    "50. Реализовать полиномиальную хеш-функцию для строк."
   ]
  },
  {
   "cell_type": "code",
   "execution_count": null,
   "metadata": {},
   "outputs": [],
   "source": [
    "def hash_str(s, p=31, m=2**32):\n",
    "    hash = 0\n",
    "    p_pow = 1\n",
    "    for i in range(len(s)):\n",
    "        hash = (hash + (1 + ord(s[i]) - ord('a')) * p_pow) % m\n",
    "        p_pow = (p_pow * p) % m\n",
    "    return hash\n",
    "\n",
    "print(hash_str('abracadabra'))\n",
    "print(hash_str('abracadabre'))"
   ]
  },
  {
   "cell_type": "markdown",
   "metadata": {},
   "source": [
    "51. Найти и вернуть все индексы начала вхождения строки `pat` в строку `text`."
   ]
  },
  {
   "cell_type": "code",
   "execution_count": null,
   "metadata": {},
   "outputs": [],
   "source": [
    "def find_substr(text, pat):\n",
    "    n = len(text)\n",
    "    m = len(pat)\n",
    "    matches = [] \n",
    "    z = z_func(pat+'#'+text) \n",
    "    for i in range(len(text)):\n",
    "        if z[i+m+1] == m:\n",
    "            matches.append(i)\n",
    "    return matches\n",
    "\n",
    "s = input() \n",
    "pat = input() \n",
    "print(*find_substr(s, pat))"
   ]
  },
  {
   "cell_type": "markdown",
   "metadata": {},
   "source": [
    "52. Реализовать сортировку списка строк на основе хеширования."
   ]
  },
  {
   "cell_type": "code",
   "execution_count": null,
   "metadata": {},
   "outputs": [],
   "source": [
    "def sortUsingHash(a, n):\n",
    "\tMax = max(a)\n",
    "\tMin = abs(min(a))\n",
    "\n",
    "\thashpos = [0] * (Max + 1)\n",
    "\thashneg = [0] * (Min + 1)\n",
    "\tfor i in range(0, n):\n",
    "\t\tif a[i] >= 0:\n",
    "\t\t\thashpos[a[i]] += 1\n",
    "\t\telse:\n",
    "\t\t\thashneg[abs(a[i])] += 1\n",
    "\tfor i in range(Min, 0, -1):\n",
    "\t\tif hashneg[i] != 0:\n",
    "\t\t\tfor j in range(0, hashneg[i]):\n",
    "\t\t\t\tprint((-1) * i, end=\" \")\n",
    "\tfor i in range(0, Max + 1):\n",
    "\t\tif hashpos[i] != 0:\n",
    "\t\t\tfor j in range(0, hashpos[i]):\n",
    "\t\t\t\tprint(i, end=\" \")\n",
    "\n",
    "a = [-1, -2, -3, -4, -5, -6, 8, 7, 5, 4, 3, 2, 1, 0]\n",
    "n = len(a)\n",
    "sortUsingHash(a, n)\n"
   ]
  }
 ],
 "metadata": {
  "kernelspec": {
   "display_name": "Python 3",
   "language": "python",
   "name": "python3"
  },
  "language_info": {
   "codemirror_mode": {
    "name": "ipython",
    "version": 3
   },
   "file_extension": ".py",
   "mimetype": "text/x-python",
   "name": "python",
   "nbconvert_exporter": "python",
   "pygments_lexer": "ipython3",
   "version": "3.12.6"
  }
 },
 "nbformat": 4,
 "nbformat_minor": 2
}
